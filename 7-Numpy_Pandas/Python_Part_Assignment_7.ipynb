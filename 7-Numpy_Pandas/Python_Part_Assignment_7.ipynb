{
 "cells": [
  {
   "cell_type": "markdown",
   "id": "1cf5ac90-0580-47e6-a83a-53e0f10ebf70",
   "metadata": {},
   "source": [
    "# 7-Numpy_Pandas"
   ]
  },
  {
   "cell_type": "markdown",
   "id": "8716b88c-9818-49cd-9e7c-a00fcd2ec1bf",
   "metadata": {},
   "source": [
    "##Exercise 1: (Score : 1)\n",
    "#Create a numpy array containing the numbers from 1 to 10, and then reshape it to a 2x5 matrix.\n",
    "\n"
   ]
  },
  {
   "cell_type": "code",
   "execution_count": 15,
   "id": "9038b863-e8c0-4a44-921a-adc772d1e887",
   "metadata": {},
   "outputs": [],
   "source": [
    "import numpy as np"
   ]
  },
  {
   "cell_type": "code",
   "execution_count": 12,
   "id": "3f8912d8-3202-42e7-aeaf-bf34ea2e0c07",
   "metadata": {},
   "outputs": [
    {
     "name": "stdout",
     "output_type": "stream",
     "text": [
      "[ 1  2  3  4  5  6  7  8  9 10]\n",
      "[[ 1  2  3  4  5]\n",
      " [ 6  7  8  9 10]]\n"
     ]
    }
   ],
   "source": [
    "array=np.arange(1,11)\n",
    "print(array)\n",
    "#reshape the array\n",
    "matrix=array.reshape(2,5)\n",
    "print (matrix)"
   ]
  },
  {
   "cell_type": "code",
   "execution_count": null,
   "id": "d2ecfe37-2896-460e-b82a-21e21e16e04b",
   "metadata": {},
   "outputs": [],
   "source": [
    "-----------------------------------------------------------------------------------------------------------------------"
   ]
  },
  {
   "cell_type": "markdown",
   "id": "665ea5ed-8d73-4f9b-b3f1-351cf57a9b72",
   "metadata": {},
   "source": [
    "##Exercise 2: (Score : 1)#\n",
    "#Create a numpy array containing the numbers from 1 to 20, and then extract the elements between the 5th and 15th index.\n"
   ]
  },
  {
   "cell_type": "code",
   "execution_count": 25,
   "id": "3224ba41-73e1-42c1-ad48-1e7e5fc47340",
   "metadata": {},
   "outputs": [
    {
     "name": "stdout",
     "output_type": "stream",
     "text": [
      "[ 1  2  3  4  5  6  7  8  9 10 11 12 13 14 15 16 17 18 19 20]\n",
      "[ 6  7  8  9 10 11 12 13 14 15 16]\n"
     ]
    }
   ],
   "source": [
    "array2=np.arange(1,21)\n",
    "print(array2)\n",
    "sliced_element=(array2[5:16])\n",
    "print(sliced_element)"
   ]
  },
  {
   "cell_type": "code",
   "execution_count": null,
   "id": "9ee54126-b599-4488-8e31-5b390f339184",
   "metadata": {},
   "outputs": [],
   "source": [
    "----------------------------------------------------------------------------------------------------------------"
   ]
  },
  {
   "cell_type": "markdown",
   "id": "9afe5318-3f51-4d3f-8b54-8268e16d601e",
   "metadata": {},
   "source": [
    "##Exercise 3: (Score : 2)\n",
    "#Create a Pandas series with the following data: {'apples': 3, 'bananas': 2, 'oranges': 1}. Then, add a new item to the series with the key 'pears' and the value 4.\n"
   ]
  },
  {
   "cell_type": "code",
   "execution_count": 5,
   "id": "d26d02c3-eeb9-43f9-a8d5-ac4aaf5449b1",
   "metadata": {},
   "outputs": [],
   "source": [
    "import pandas as pd"
   ]
  },
  {
   "cell_type": "code",
   "execution_count": 9,
   "id": "874c5db2-6661-406e-acae-a9f6f57d08d3",
   "metadata": {},
   "outputs": [
    {
     "name": "stdout",
     "output_type": "stream",
     "text": [
      "apples     3\n",
      "bananas    2\n",
      "oranges    1\n",
      "pears      4\n",
      "dtype: int64\n"
     ]
    }
   ],
   "source": [
    "data={'apples':3,'bananas':2,'oranges':1}\n",
    "series=pd.Series(data)\n",
    "#add a item to the series\n",
    "series['pears']=4\n",
    "print(series)"
   ]
  },
  {
   "cell_type": "code",
   "execution_count": null,
   "id": "6c3a4498-a6ce-4dd5-b987-31687db41593",
   "metadata": {},
   "outputs": [],
   "source": [
    "--------------------------------------------------------------------------------------------------"
   ]
  },
  {
   "cell_type": "markdown",
   "id": "e3714105-30ad-41ce-9a9c-87cd568095f4",
   "metadata": {},
   "source": [
    "##Exercise 4: (Score : 2)\n",
    "#Create a dataframe with the following columns: name, age, and gender. The dataframe should have 10 rows of data.\n"
   ]
  },
  {
   "cell_type": "code",
   "execution_count": 18,
   "id": "f27f20d6-e8c6-4d1d-80f7-2c585637a041",
   "metadata": {},
   "outputs": [
    {
     "name": "stdout",
     "output_type": "stream",
     "text": [
      "            Name  Age  Gender\n",
      "0     Allu Arjun   40    Male\n",
      "1         Bavana   30  Female\n",
      "2     Divya unni   46  Female\n",
      "3       Gayathri   30  Female\n",
      "4        Mammuty   65    Male\n",
      "5       Mohanlal   64    Male\n",
      "6         Dileep   57    Male\n",
      "7  Kavya madavan   37  Female\n",
      "8        Jayaram   54    Male\n",
      "9         Dulqar   40    Male\n"
     ]
    }
   ],
   "source": [
    "#create a dictionary with the data \n",
    "data={'Name': ['Allu Arjun','Bavana','Divya unni','Gayathri','Mammuty','Mohanlal','Dileep','Kavya madavan','Jayaram','Dulqar'],\n",
    "      'Age':[40,30,46,30,65,64,57,37,54,40],\n",
    "       'Gender':['Male','Female','Female','Female','Male','Male','Male','Female','Male','Male']}\n",
    "\n",
    " #crete the data frame\n",
    "df=pd.DataFrame(data)\n",
    "print(df)"
   ]
  },
  {
   "cell_type": "code",
   "execution_count": null,
   "id": "3c31182d-da01-40f9-914a-74155f4dc32e",
   "metadata": {},
   "outputs": [],
   "source": [
    "-----------------------------------------------------------------------------------------------------------------\n"
   ]
  },
  {
   "cell_type": "markdown",
   "id": "82ee46f2-43e6-4eb7-b77a-12abeb72287e",
   "metadata": {},
   "source": [
    "##Exercise 5: (Score : 1)\n",
    "#Add a new column to the data frame created in question 1, called occupation. The values for this column should be Programmer, Manager, and Analyst, corresponding to the rows in the dataframe.\n",
    "\n"
   ]
  },
  {
   "cell_type": "code",
   "execution_count": 24,
   "id": "91dd1310-bda2-4834-9e56-aef51356552a",
   "metadata": {},
   "outputs": [
    {
     "name": "stdout",
     "output_type": "stream",
     "text": [
      "            Name  Age  Gender occupations\n",
      "0     Allu Arjun   40    Male       Actor\n",
      "1         Bavana   30  Female     Actress\n",
      "2     Divya unni   46  Female     Actress\n",
      "3       Gayathri   30  Female     Actress\n",
      "4        Mammuty   65    Male       Actor\n",
      "5       Mohanlal   64    Male       Actor\n",
      "6         Dileep   57    Male       Actor\n",
      "7  Kavya madavan   37  Female     Actress\n",
      "8        Jayaram   54    Male       Actor\n",
      "9         Dulqar   40    Male       Actor\n"
     ]
    }
   ],
   "source": [
    "#create a dictionary with the data \n",
    "data={'Name': ['Allu Arjun','Bavana','Divya unni','Gayathri','Mammuty','Mohanlal','Dileep','Kavya madavan','Jayaram','Dulqar'],\n",
    "      'Age':[40,30,46,30,65,64,57,37,54,40],\n",
    "       'Gender':['Male','Female','Female','Female','Male','Male','Male','Female','Male','Male']}\n",
    "\n",
    " #crete the data frame\n",
    "df=pd.DataFrame(data)\n",
    "#Add the occupation column\n",
    "occupations= ['Actor','Actress','Actress','Actress','Actor','Actor','Actor','Actress','Actor','Actor']\n",
    "df['occupations']=occupations\n",
    "print(df)"
   ]
  },
  {
   "cell_type": "code",
   "execution_count": null,
   "id": "71024b3c-59a2-45e1-9f12-116ef63776db",
   "metadata": {},
   "outputs": [],
   "source": [
    "----------------------------------------------------------------------------------------"
   ]
  },
  {
   "cell_type": "markdown",
   "id": "53cc1a6f-9574-42e9-b2e2-ed99cc3c91e9",
   "metadata": {},
   "source": [
    "##Exercise 6: (Score : 1)\n",
    "Select the rows of the dataframe where the age is greater than or equal to 30.\n",
    "\n"
   ]
  },
  {
   "cell_type": "code",
   "execution_count": 32,
   "id": "58511de1-0dc9-4372-8637-c511a9f19747",
   "metadata": {},
   "outputs": [
    {
     "name": "stdout",
     "output_type": "stream",
     "text": [
      "            Name  Age  Gender Occupations\n",
      "0     Allu Arjun   40    Male       Actor\n",
      "1         Bavana   30  Female     Actress\n",
      "2     Divya unni   46  Female     Actress\n",
      "3       Gayathri   30  Female     Actress\n",
      "4        Mammuty   65    Male       Actor\n",
      "5       Mohanlal   64    Male       Actor\n",
      "6         Dileep   57    Male       Actor\n",
      "7  Kavya madavan   37  Female     Actress\n",
      "8        Jayaram   54    Male       Actor\n",
      "9         Dulqar   40    Male       Actor\n"
     ]
    }
   ],
   "source": [
    "#create a dictionary with the data \n",
    "data={'Name': ['Allu Arjun','Bavana','Divya unni','Gayathri','Mammuty','Mohanlal','Dileep','Kavya madavan','Jayaram','Dulqar'],\n",
    "      'Age':[40,30,46,30,65,64,57,37,54,40],\n",
    "       'Gender':['Male','Female','Female','Female','Male','Male','Male','Female','Male','Male'],\n",
    "       'Occupations': ['Actor','Actress','Actress','Actress','Actor','Actor','Actor','Actress','Actor','Actor']}\n",
    "df=pd.DataFrame(data)\n",
    "\n",
    "#select  rows where age is  greater then or equal to 30\n",
    "filtered_df=df[df['Age'] >=30]\n",
    "print(filtered_df)"
   ]
  },
  {
   "cell_type": "code",
   "execution_count": null,
   "id": "e7b70251-a611-4a2b-8bab-4b8d260d1fe2",
   "metadata": {},
   "outputs": [],
   "source": [
    "---------------------------------------------------------------------------------------------------------\n"
   ]
  },
  {
   "cell_type": "markdown",
   "id": "0ffd31b2-a779-4dee-9205-f8b8b8aec5be",
   "metadata": {},
   "source": [
    "##Exercise 7: (Score : 2)\n",
    "Convert this dataframe to a csv file and read that csv file, finally display the contents.\n",
    "\n"
   ]
  },
  {
   "cell_type": "code",
   "execution_count": 35,
   "id": "b815fd5e-822e-4cf3-87e9-2d2161a747f8",
   "metadata": {},
   "outputs": [
    {
     "name": "stdout",
     "output_type": "stream",
     "text": [
      "            Name  Age  Gender Occupations\n",
      "0     Allu Arjun   40    Male       Actor\n",
      "1         Bavana   30  Female     Actress\n",
      "2     Divya unni   46  Female     Actress\n",
      "3       Gayathri   30  Female     Actress\n",
      "4        Mammuty   65    Male       Actor\n",
      "5       Mohanlal   64    Male       Actor\n",
      "6         Dileep   57    Male       Actor\n",
      "7  Kavya madavan   37  Female     Actress\n",
      "8        Jayaram   54    Male       Actor\n",
      "9         Dulqar   40    Male       Actor\n"
     ]
    }
   ],
   "source": [
    "data={'Name': ['Allu Arjun','Bavana','Divya unni','Gayathri','Mammuty','Mohanlal','Dileep','Kavya madavan','Jayaram','Dulqar'],\n",
    "      'Age':[40,30,46,30,65,64,57,37,54,40],\n",
    "       'Gender':['Male','Female','Female','Female','Male','Male','Male','Female','Male','Male'],\n",
    "       'Occupations': ['Actor','Actress','Actress','Actress','Actor','Actor','Actor','Actress','Actor','Actor']}\n",
    "df=pd.DataFrame(data)\n",
    "# Convert the DataFrame to a CSV file\n",
    "df.to_csv('data.csv', index=False)\n",
    "\n",
    "# Read the CSV file back into a DataFrame\n",
    "df_from_csv = pd.read_csv('data.csv')\n",
    "\n",
    "# Display the contents of the new DataFrame\n",
    "print(df_from_csv)"
   ]
  },
  {
   "cell_type": "code",
   "execution_count": null,
   "id": "93e83799-f06c-444c-811d-d28541b5e5ba",
   "metadata": {},
   "outputs": [],
   "source": [
    "----------------------------------        -----------------------         ----------------------------------------"
   ]
  }
 ],
 "metadata": {
  "kernelspec": {
   "display_name": "Python [conda env:base] *",
   "language": "python",
   "name": "conda-base-py"
  },
  "language_info": {
   "codemirror_mode": {
    "name": "ipython",
    "version": 3
   },
   "file_extension": ".py",
   "mimetype": "text/x-python",
   "name": "python",
   "nbconvert_exporter": "python",
   "pygments_lexer": "ipython3",
   "version": "3.12.7"
  }
 },
 "nbformat": 4,
 "nbformat_minor": 5
}
